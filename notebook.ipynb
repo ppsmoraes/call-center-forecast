{
 "cells": [
  {
   "cell_type": "markdown",
   "id": "73a20316",
   "metadata": {},
   "source": [
    "Importando as bibliotecas para o tratamento e visualização dos dados."
   ]
  },
  {
   "cell_type": "code",
   "execution_count": null,
   "id": "e71d5d07",
   "metadata": {},
   "outputs": [],
   "source": [
    "import pandas as pd\n",
    "import matplotlib.pyplot as plt\n",
    "import holidays\n",
    "import datetime\n",
    "from sklearn.metrics import mean_squared_error, r2_score\n",
    "from statsmodels.tsa.holtwinters import ExponentialSmoothing"
   ]
  },
  {
   "cell_type": "markdown",
   "id": "0940f9c6",
   "metadata": {},
   "source": [
    "Realizando a leitura da base de dados."
   ]
  },
  {
   "cell_type": "code",
   "execution_count": null,
   "id": "e33b845e",
   "metadata": {},
   "outputs": [],
   "source": [
    "df: pd.DataFrame = pd.read_excel('data/01 Call-Center-Dataset.xlsx')\n",
    "df.head()"
   ]
  },
  {
   "cell_type": "markdown",
   "id": "08c7acd6",
   "metadata": {},
   "source": [
    "Contando a quantidade de chamadas recebidas por dia."
   ]
  },
  {
   "cell_type": "code",
   "execution_count": null,
   "id": "d7154044",
   "metadata": {},
   "outputs": [],
   "source": [
    "dayly: pd.DataFrame = df[['Call Id', 'Date']].groupby('Date').count()\n",
    "dayly.rename(columns={'Call Id': 'Calls'}, inplace=True)\n",
    "dayly.index = pd.to_datetime(dayly.index)\n",
    "\n",
    "dayly.head()"
   ]
  },
  {
   "cell_type": "markdown",
   "id": "6d7b7e1a",
   "metadata": {},
   "source": [
    "Visualização inicial dos dados."
   ]
  },
  {
   "cell_type": "code",
   "execution_count": null,
   "id": "9084368c",
   "metadata": {},
   "outputs": [],
   "source": [
    "plt.figure(figsize=(16, 3))\n",
    "plt.plot(dayly.index, dayly['Calls'])\n",
    "plt.xlabel('Data')\n",
    "plt.ylabel('Quantidade de Chamadas')\n",
    "plt.title('Chamadas por Dia')\n",
    "plt.xticks(dayly.index[::8])\n",
    "plt.show()"
   ]
  },
  {
   "cell_type": "markdown",
   "id": "09c20c94",
   "metadata": {},
   "source": [
    "Estatísticas básicas das chamadas diárias:"
   ]
  },
  {
   "cell_type": "code",
   "execution_count": null,
   "id": "10254c34",
   "metadata": {},
   "outputs": [],
   "source": [
    "dayly.describe()"
   ]
  },
  {
   "cell_type": "markdown",
   "id": "1ad7f58d",
   "metadata": {},
   "source": [
    "Calculando a média de chamadas por dia da semana."
   ]
  },
  {
   "cell_type": "code",
   "execution_count": null,
   "id": "14faf25f",
   "metadata": {},
   "outputs": [],
   "source": [
    "weekly_means: pd.DataFrame = dayly.copy()\n",
    "weekly_means['Day_name'] = weekly_means.index.day_name()\n",
    "weekly_means = weekly_means.groupby('Day_name').mean()\n",
    "weekly_means = weekly_means.reindex(['Sunday', 'Monday', 'Tuesday', 'Wednesday', 'Thursday', 'Friday', 'Saturday'])\n",
    "weekly_means.rename(columns={'Calls': 'Mean Calls'}, inplace=True)\n",
    "\n",
    "weekly_means"
   ]
  },
  {
   "cell_type": "markdown",
   "id": "5b1616db",
   "metadata": {},
   "source": [
    "Visualizando em grafico de barras."
   ]
  },
  {
   "cell_type": "code",
   "execution_count": null,
   "id": "72ad8a16",
   "metadata": {},
   "outputs": [],
   "source": [
    "plt.figure(figsize=(8, 3))\n",
    "plt.bar(weekly_means.index, weekly_means['Mean Calls'])\n",
    "plt.xlabel('Dias da Semana')\n",
    "plt.ylabel('Média de Chamadas')\n",
    "plt.title('Médias de Chamadas por Dia da Semana')\n",
    "plt.show()"
   ]
  },
  {
   "cell_type": "markdown",
   "id": "4a24b6ea",
   "metadata": {},
   "source": [
    "Feriados brasileiros do ano de 2021"
   ]
  },
  {
   "cell_type": "code",
   "execution_count": null,
   "id": "a3c97d52",
   "metadata": {},
   "outputs": [],
   "source": [
    "br_holidays: holidays.BR = holidays.BR(years=2021)\n",
    "\n",
    "holiday_df: pd.DataFrame = pd.DataFrame.from_dict(br_holidays.items())\n",
    "holiday_df.columns = ['Date', 'Holiday']\n",
    "holiday_df['Date'] = pd.to_datetime(holiday_df['Date'])\n",
    "holiday_df.set_index('Date', inplace=True)\n",
    "\n",
    "holiday_df"
   ]
  },
  {
   "cell_type": "code",
   "execution_count": null,
   "id": "4a9d5579",
   "metadata": {},
   "outputs": [],
   "source": [
    "# Adiciona Carnaval e Corpus Christi manualmente\n",
    "holiday_df.loc[datetime.datetime(2021, 2, 15)] = 'Carnaval'\n",
    "holiday_df.loc[datetime.datetime(2021, 2, 16)] = 'Carnaval'\n",
    "holiday_df.loc[datetime.datetime(2021, 6, 3)] = 'Corpus Christi'\n",
    "holiday_df.sort_index(inplace=True)\n",
    "\n",
    "holiday_df"
   ]
  },
  {
   "cell_type": "code",
   "execution_count": null,
   "id": "17adbd5c",
   "metadata": {},
   "outputs": [],
   "source": [
    "holydays_observed: pd.DataFrame = holiday_df.merge(dayly, how='inner', on='Date')\n",
    "\n",
    "holydays_observed"
   ]
  },
  {
   "cell_type": "code",
   "execution_count": null,
   "id": "2c058a85",
   "metadata": {},
   "outputs": [],
   "source": [
    "# Separando os dados em treino e teste (últimas 2 semanas)\n",
    "train = dayly[:-14]\n",
    "test = dayly[-14:]\n",
    "\n",
    "# Criando features para o modelo\n",
    "train_features = pd.DataFrame({\n",
    "    'day_of_week': train.index.dayofweek,\n",
    "    'day_of_month': train.index.day,\n",
    "    'month': train.index.month,\n",
    "    'is_holiday': train.index.isin(holiday_df.index)\n",
    "})\n",
    "\n",
    "test_features = pd.DataFrame({\n",
    "    'day_of_week': test.index.dayofweek,\n",
    "    'day_of_month': test.index.day,\n",
    "    'month': test.index.month,\n",
    "    'is_holiday': test.index.isin(holiday_df.index)\n",
    "})"
   ]
  },
  {
   "cell_type": "code",
   "execution_count": null,
   "id": "e7f00215",
   "metadata": {
    "vscode": {
     "languageId": "ruby"
    }
   },
   "outputs": [],
   "source": [
    "# Test different Holt-Winters configurations\n",
    "models = {\n",
    "    'Additive trend, Additive seasonal': ExponentialSmoothing(\n",
    "        train['Calls'].asfreq('D'), seasonal_periods=7, trend='add', seasonal='add'\n",
    "    ).fit(),\n",
    "    'Additive trend, Multiplicative seasonal': ExponentialSmoothing(\n",
    "        train['Calls'].asfreq('D'), seasonal_periods=7, trend='add', seasonal='mul'\n",
    "    ).fit(),\n",
    "    'Multiplicative trend, Additive seasonal': ExponentialSmoothing(\n",
    "        train['Calls'].asfreq('D'), seasonal_periods=7, trend='mul', seasonal='add'\n",
    "    ).fit(),\n",
    "    'Multiplicative trend, Multiplicative seasonal': ExponentialSmoothing(\n",
    "        train['Calls'].asfreq('D'), seasonal_periods=7, trend='mul', seasonal='mul'\n",
    "    ).fit(),\n",
    "    'Damped Additive trend, Additive seasonal': ExponentialSmoothing(\n",
    "        train['Calls'].asfreq('D'), seasonal_periods=7, trend='add', seasonal='add', damped_trend=True\n",
    "    ).fit(),\n",
    "    'Damped Additive trend, Multiplicative seasonal': ExponentialSmoothing(\n",
    "        train['Calls'].asfreq('D'), seasonal_periods=7, trend='add', seasonal='mul', damped_trend=True\n",
    "    ).fit()\n",
    "}\n",
    "\n",
    "# Make predictions\n",
    "forecasts = {}\n",
    "for name, model in models.items():\n",
    "    # Make predictions for test period\n",
    "    predictions = model.forecast(len(test))\n",
    "    \n",
    "    # Calculate metrics\n",
    "    mse = mean_squared_error(test['Calls'], predictions)\n",
    "    r2 = r2_score(test['Calls'], predictions)\n",
    "    \n",
    "    # Store results\n",
    "    forecasts[name] = {\n",
    "        'predictions': predictions,\n",
    "        'mse': mse,\n",
    "        'r2': r2\n",
    "    }\n",
    "\n",
    "# Find best model\n",
    "best_mse = float('inf')\n",
    "best_model = None\n",
    "for name, results in forecasts.items():\n",
    "    if results['mse'] < best_mse:\n",
    "        best_mse = results['mse']\n",
    "        best_model = name\n",
    "\n",
    "print(f'Best model: {best_model}')\n",
    "print(f'MSE: {best_mse:.2f}')\n",
    "print(f'R²: {forecasts[best_model]['r2']:.2f}')\n",
    "\n",
    "# Plot the results\n",
    "plt.figure(figsize=(16, 3))\n",
    "plt.plot(train.index, train['Calls'], label='Dados de Treino')\n",
    "plt.plot(test.index, test['Calls'], label='Dados de Teste')\n",
    "plt.plot(test.index, forecasts[best_model]['predictions'], label='Previsão')\n",
    "plt.xlabel('Data')\n",
    "plt.ylabel('Quantidade de Chamadas')\n",
    "plt.title('Comparação entre Previsões e Dados Reais')\n",
    "plt.legend()\n",
    "plt.show()"
   ]
  }
 ],
 "metadata": {
  "kernelspec": {
   "display_name": ".venv",
   "language": "python",
   "name": "python3"
  },
  "language_info": {
   "codemirror_mode": {
    "name": "ipython",
    "version": 3
   },
   "file_extension": ".py",
   "mimetype": "text/x-python",
   "name": "python",
   "nbconvert_exporter": "python",
   "pygments_lexer": "ipython3",
   "version": "3.13.1"
  }
 },
 "nbformat": 4,
 "nbformat_minor": 5
}
