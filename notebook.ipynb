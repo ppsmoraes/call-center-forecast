{
 "cells": [
  {
   "cell_type": "code",
   "execution_count": null,
   "id": "e71d5d07",
   "metadata": {},
   "outputs": [],
   "source": [
    "import pandas as pd\n",
    "import matplotlib.pyplot as plt\n",
    "from scipy import stats\n",
    "import holidays\n",
    "import datetime"
   ]
  },
  {
   "cell_type": "code",
   "execution_count": null,
   "id": "e33b845e",
   "metadata": {},
   "outputs": [],
   "source": [
    "df: pd.DataFrame = pd.read_excel('data/01 Call-Center-Dataset.xlsx')\n",
    "\n",
    "df.head()"
   ]
  },
  {
   "cell_type": "code",
   "execution_count": null,
   "id": "d7154044",
   "metadata": {},
   "outputs": [],
   "source": [
    "dayly: pd.DataFrame = df[['Call Id', 'Date']].groupby('Date').count()\n",
    "dayly.rename(columns={'Call Id': 'Calls'}, inplace=True)\n",
    "dayly.index = pd.to_datetime(dayly.index)\n",
    "\n",
    "dayly.head()"
   ]
  },
  {
   "cell_type": "code",
   "execution_count": null,
   "id": "9084368c",
   "metadata": {},
   "outputs": [],
   "source": [
    "plt.figure(figsize=(16, 3))\n",
    "plt.plot(dayly.index, dayly['Calls'])\n",
    "plt.xlabel('Data')\n",
    "plt.ylabel('Quantidade de Chamadas')\n",
    "plt.title('Chamadas por Dia')\n",
    "plt.xticks(dayly.index[::8])\n",
    "plt.show()"
   ]
  },
  {
   "cell_type": "code",
   "execution_count": null,
   "id": "14faf25f",
   "metadata": {},
   "outputs": [],
   "source": [
    "# import numpy as np\n",
    "from statsmodels.tsa.seasonal import seasonal_decompose\n",
    "from statsmodels.graphics.tsaplots import plot_acf\n",
    "from scipy.stats import kruskal\n",
    "\n",
    "# 1. Plot por dia da semana\n",
    "dayly.groupby(dayly.index.dayofweek).mean().plot(kind='bar')\n",
    "\n",
    "# # 2. ACF\n",
    "plot_acf(dayly, lags=7)  # Verifique lags 7, 14, 21\n",
    "plot_acf(dayly, lags=14)  # Verifique lags 7, 14, 21\n",
    "plot_acf(dayly, lags=21)  # Verifique lags 7, 14, 21\n",
    "\n",
    "# # 3. Decomposição\n",
    "result = seasonal_decompose(dayly, model='additive', period=7)\n",
    "result.plot()\n",
    "\n",
    "# 4. Teste de Kruskal-Wallis\n",
    "groups = [dayly[dayly.index.dayofweek == day] for day in range(7)]\n",
    "stat, pval = kruskal(*groups)\n",
    "print(f'p-valor para sazonalidade semanal: {pval}')"
   ]
  },
  {
   "cell_type": "code",
   "execution_count": null,
   "id": "cc4d1707",
   "metadata": {},
   "outputs": [],
   "source": [
    "dayly['DayName'] = dayly.index.day_name()\n",
    "\n",
    "# Calcular as médias de chamadas por dia da semana\n",
    "weekly_means = dayly.groupby('DayName')['Calls'].mean().round(2)\n",
    "\n",
    "# Calcular o desvio padrão das médias\n",
    "std_between_days = weekly_means.std()\n",
    "mean_calls = weekly_means.mean()\n",
    "cv = (std_between_days / mean_calls) * 100\n",
    "\n",
    "print(\"Médias de chamadas por dia da semana:\")\n",
    "print(weekly_means)\n",
    "print(f\"\\nCoeficiente de variação: {cv:.2f}%\")\n",
    "\n",
    "# Realizar teste ANOVA\n",
    "\n",
    "# Criar listas de chamadas para cada dia da semana\n",
    "days_data = [dayly[dayly['DayName'] == day]['Calls'] for day in weekly_means.index]\n",
    "f_stat, p_value = stats.f_oneway(*days_data)\n",
    "\n",
    "print(f\"\\nResultados ANOVA:\")\n",
    "print(f\"F-statistic: {f_stat:.4f}\")\n",
    "print(f\"p-value: {p_value:.4f}\")\n",
    "\n",
    "stat, pval = stats.kruskal(*days_data)\n",
    "print(f\"p-valor para sazonalidade semanal: {pval:.4f}\")"
   ]
  },
  {
   "cell_type": "code",
   "execution_count": null,
   "id": "4a24b6ea",
   "metadata": {},
   "outputs": [],
   "source": [
    "# Feriados brasileiros do ano de 2021\n",
    "br_holidays: holidays.BR = holidays.BR(years=2021)\n",
    "\n",
    "# Convertendo para pandas\n",
    "holiday_df: pd.DataFrame = pd.DataFrame.from_dict(br_holidays.items())\n",
    "holiday_df.columns = ['Date', 'Holiday']\n",
    "holiday_df.set_index('Date', inplace=True)\n",
    "\n",
    "holiday_df"
   ]
  },
  {
   "cell_type": "code",
   "execution_count": null,
   "id": "4a9d5579",
   "metadata": {},
   "outputs": [],
   "source": [
    "# Adiciona Carnaval e Corpus Christi manualmente\n",
    "holiday_df.loc[datetime.date(2021, 2, 15)] = 'Carnaval'\n",
    "holiday_df.loc[datetime.date(2021, 2, 16)] = 'Carnaval'\n",
    "holiday_df.loc[datetime.date(2021, 6, 3)] = 'Corpus Christi'\n",
    "holiday_df.sort_index(inplace=True)\n",
    "\n",
    "holiday_df"
   ]
  }
 ],
 "metadata": {
  "kernelspec": {
   "display_name": ".venv",
   "language": "python",
   "name": "python3"
  },
  "language_info": {
   "codemirror_mode": {
    "name": "ipython",
    "version": 3
   },
   "file_extension": ".py",
   "mimetype": "text/x-python",
   "name": "python",
   "nbconvert_exporter": "python",
   "pygments_lexer": "ipython3",
   "version": "3.13.1"
  }
 },
 "nbformat": 4,
 "nbformat_minor": 5
}
