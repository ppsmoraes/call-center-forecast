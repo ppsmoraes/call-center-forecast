{
 "cells": [
  {
   "cell_type": "markdown",
   "id": "73a20316",
   "metadata": {},
   "source": [
    "Importando as bibliotecas para o tratamento e visualização dos dados."
   ]
  },
  {
   "cell_type": "code",
   "execution_count": null,
   "id": "e71d5d07",
   "metadata": {},
   "outputs": [],
   "source": [
    "import pandas as pd\n",
    "import matplotlib.pyplot as plt\n",
    "from scipy import stats\n",
    "import holidays\n",
    "import datetime"
   ]
  },
  {
   "cell_type": "markdown",
   "id": "0940f9c6",
   "metadata": {},
   "source": [
    "Realizando a leitura da base de dados."
   ]
  },
  {
   "cell_type": "code",
   "execution_count": null,
   "id": "e33b845e",
   "metadata": {},
   "outputs": [],
   "source": [
    "df: pd.DataFrame = pd.read_excel('data/01 Call-Center-Dataset.xlsx')\n",
    "df.head()"
   ]
  },
  {
   "cell_type": "markdown",
   "id": "08c7acd6",
   "metadata": {},
   "source": [
    "Contando a quantidade de chamadas recebidas por dia."
   ]
  },
  {
   "cell_type": "code",
   "execution_count": null,
   "id": "d7154044",
   "metadata": {},
   "outputs": [],
   "source": [
    "dayly: pd.DataFrame = df[['Call Id', 'Date']].groupby('Date').count()\n",
    "dayly.rename(columns={'Call Id': 'Calls'}, inplace=True)\n",
    "dayly.index = pd.to_datetime(dayly.index)\n",
    "\n",
    "dayly.head()"
   ]
  },
  {
   "cell_type": "markdown",
   "id": "6d7b7e1a",
   "metadata": {},
   "source": [
    "Visualização inicial dos dados."
   ]
  },
  {
   "cell_type": "code",
   "execution_count": null,
   "id": "9084368c",
   "metadata": {},
   "outputs": [],
   "source": [
    "plt.figure(figsize=(16, 3))\n",
    "plt.plot(dayly.index, dayly['Calls'])\n",
    "plt.xlabel('Data')\n",
    "plt.ylabel('Quantidade de Chamadas')\n",
    "plt.title('Chamadas por Dia')\n",
    "plt.xticks(dayly.index[::8])\n",
    "plt.show()"
   ]
  },
  {
   "cell_type": "markdown",
   "id": "1ad7f58d",
   "metadata": {},
   "source": [
    "Calculando a média de chamadas por dia da semana."
   ]
  },
  {
   "cell_type": "code",
   "execution_count": null,
   "id": "14faf25f",
   "metadata": {},
   "outputs": [],
   "source": [
    "weekly_means: pd.DataFrame = dayly.copy()\n",
    "weekly_means['Day_name'] = weekly_means.index.day_name()\n",
    "weekly_means = weekly_means.groupby('Day_name').mean()\n",
    "weekly_means = weekly_means.reindex(['Sunday', 'Monday', 'Tuesday', 'Wednesday', 'Thursday', 'Friday', 'Saturday'])\n",
    "weekly_means.rename(columns={'Calls': 'Mean Calls'}, inplace=True)\n",
    "\n",
    "weekly_means"
   ]
  },
  {
   "cell_type": "markdown",
   "id": "5b1616db",
   "metadata": {},
   "source": [
    "Visualizando em grafico de barras."
   ]
  },
  {
   "cell_type": "code",
   "execution_count": null,
   "id": "72ad8a16",
   "metadata": {},
   "outputs": [],
   "source": [
    "plt.figure(figsize=(8, 3))\n",
    "plt.bar(weekly_means.index, weekly_means['Mean Calls'])\n",
    "plt.xlabel('Dias da Semana')\n",
    "plt.ylabel('Média de Chamadas')\n",
    "plt.title('Médias de Chamadas por Dia da Semana')\n",
    "plt.show()"
   ]
  },
  {
   "cell_type": "code",
   "execution_count": null,
   "id": "6ca81fde",
   "metadata": {},
   "outputs": [],
   "source": [
    "sk_stat, sk_p_value = stats.shapiro(dayly)\n",
    "print(f'Estatística do teste de Shapiro-Wilk: {sk_stat}, p-valor: {sk_p_value}')\n",
    "\n",
    "jb_stat, jb_p_value = stats.jarque_bera(dayly)\n",
    "print(f'Estatística do teste de Jarque-Bera: {jb_stat}, p-valor: {jb_p_value}')\n",
    "\n",
    "result = stats.anderson(dayly['Calls'])\n",
    "print(f\"Estatística de teste: {result.statistic}\")\n",
    "print(\"Valores críticos:\", result.critical_values)"
   ]
  },
  {
   "cell_type": "code",
   "execution_count": null,
   "id": "3d420eb6",
   "metadata": {},
   "outputs": [],
   "source": [
    "plt.figure(figsize=(10, 6))\n",
    "plt.hist(dayly['Calls'], bins=20, edgecolor='black')\n",
    "plt.xlabel('Número de Chamadas')\n",
    "plt.ylabel('Frequência')\n",
    "plt.title('Distribuição do Número de Chamadas Diárias')\n",
    "plt.show()"
   ]
  },
  {
   "cell_type": "code",
   "execution_count": null,
   "id": "4a24b6ea",
   "metadata": {},
   "outputs": [],
   "source": [
    "# Feriados brasileiros do ano de 2021\n",
    "br_holidays: holidays.BR = holidays.BR(years=2021)\n",
    "\n",
    "# Convertendo para pandas\n",
    "holiday_df: pd.DataFrame = pd.DataFrame.from_dict(br_holidays.items())\n",
    "holiday_df.columns = ['Date', 'Holiday']\n",
    "holiday_df.set_index('Date', inplace=True)\n",
    "\n",
    "holiday_df"
   ]
  },
  {
   "cell_type": "code",
   "execution_count": null,
   "id": "4a9d5579",
   "metadata": {},
   "outputs": [],
   "source": [
    "# Adiciona Carnaval e Corpus Christi manualmente\n",
    "holiday_df.loc[datetime.date(2021, 2, 15)] = 'Carnaval'\n",
    "holiday_df.loc[datetime.date(2021, 2, 16)] = 'Carnaval'\n",
    "holiday_df.loc[datetime.date(2021, 6, 3)] = 'Corpus Christi'\n",
    "holiday_df.sort_index(inplace=True)\n",
    "\n",
    "holiday_df"
   ]
  }
 ],
 "metadata": {
  "kernelspec": {
   "display_name": ".venv",
   "language": "python",
   "name": "python3"
  },
  "language_info": {
   "codemirror_mode": {
    "name": "ipython",
    "version": 3
   },
   "file_extension": ".py",
   "mimetype": "text/x-python",
   "name": "python",
   "nbconvert_exporter": "python",
   "pygments_lexer": "ipython3",
   "version": "3.13.1"
  }
 },
 "nbformat": 4,
 "nbformat_minor": 5
}
